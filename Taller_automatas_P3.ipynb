{
  "nbformat": 4,
  "nbformat_minor": 0,
  "metadata": {
    "colab": {
      "name": "Taller_automatas_P3.ipynb",
      "provenance": []
    },
    "kernelspec": {
      "name": "python3",
      "display_name": "Python 3"
    },
    "language_info": {
      "name": "python"
    }
  },
  "cells": [
    {
      "cell_type": "markdown",
      "source": [
        "## **Σ = {0, 1}** Lenguaje cuyas palabras no tienen más de una ocurrencia de la cadena 11.\n"
      ],
      "metadata": {
        "id": "AArO9AyAG_5k"
      }
    },
    {
      "cell_type": "code",
      "execution_count": 1,
      "metadata": {
        "colab": {
          "base_uri": "https://localhost:8080/"
        },
        "id": "2rpxxMZaG_U3",
        "outputId": "065fdb9a-7e89-4cdc-9e6a-8681662ceb42"
      },
      "outputs": [
        {
          "output_type": "stream",
          "name": "stdout",
          "text": [
            "Looking in indexes: https://pypi.org/simple, https://us-python.pkg.dev/colab-wheels/public/simple/\n",
            "Collecting automata-lib\n",
            "  Downloading automata_lib-5.0.0-py3-none-any.whl (32 kB)\n",
            "Requirement already satisfied: pydot in /usr/local/lib/python3.7/dist-packages (from automata-lib) (1.3.0)\n",
            "Requirement already satisfied: pyparsing>=2.1.4 in /usr/local/lib/python3.7/dist-packages (from pydot->automata-lib) (3.0.9)\n",
            "Installing collected packages: automata-lib\n",
            "Successfully installed automata-lib-5.0.0\n"
          ]
        }
      ],
      "source": [
        "## Instalación de la libreria automata-lib\n",
        "!pip install automata-lib"
      ]
    },
    {
      "cell_type": "code",
      "source": [
        "## Importación de la libreria automata-lib\n",
        "\n",
        "from automata.fa.dfa import DFA\n",
        "\n",
        "## Definición del AFD \n",
        "\n",
        "dfa = DFA(\n",
        "    states={\"q0\", \"q1\", \"q2\", \"q3\", \"q4\", \"q5\", \"q6\"}, \n",
        "    input_symbols={\"0\", \"1\"},\n",
        "    transitions={\n",
        "    \"q6\":{\"1\": \"q2\", \"0\": \"q6\"},\n",
        "    \"q5\":{\"1\": \"q1\", \"0\": \"q5\"}, \n",
        "\t\t\"q4\":{\"1\": \"q1\", \"0\": \"q4\"},\n",
        "\t\t\"q3\":{\"1\": \"q3\", \"0\": \"q3\"}, \n",
        "\t\t\"q2\":{\"1\": \"q3\", \"0\": \"q6\"},  \n",
        "\t\t\"q1\":{\"1\": \"q2\", \"0\": \"q5\"},\n",
        "\t\t\"q0\":{\"1\": \"q1\", \"0\": \"q4\"}\n",
        "    },\n",
        "    initial_state=\"q0\",\n",
        "    final_states={\"q2\",\"q6\"},\n",
        ")"
      ],
      "metadata": {
        "id": "CcokE1KLHK9n"
      },
      "execution_count": 7,
      "outputs": []
    },
    {
      "cell_type": "code",
      "source": [
        "## Función para verificar las palabras \n",
        "\n",
        "def check_word(automaton, expression: str) -> bool:\n",
        "    '''\n",
        "      Esta funcion recibe como parametro el AFD y la palabra a evaluar\n",
        "      automaton: automata.fa.dfa\n",
        "      expression: str\n",
        "    '''\n",
        "\n",
        "    state = automaton.initial_state\n",
        "    for item in expression.upper():\n",
        "        if item not in automaton.input_symbols:\n",
        "            return False\n",
        "        transition = automaton.transitions.get(state)\n",
        "        state = transition.get(item)\n",
        "    return state in automaton.final_states"
      ],
      "metadata": {
        "id": "zqre2zG5HNS2"
      },
      "execution_count": 8,
      "outputs": []
    },
    {
      "cell_type": "code",
      "source": [
        "## Lista de palabras para verificar en el AFD\n",
        "\n",
        "import random\n",
        "\n",
        "N_WORDS = 10\n",
        "N_LONG_WORD = 16\n",
        "\n",
        "word = \"\"\n",
        "words = []\n",
        "\n",
        "for j in range(0,N_WORDS):\n",
        "  for i in range(0,N_LONG_WORD):\n",
        "    word += str(random.randint(0,1))\n",
        "  words.append(word)\n",
        "  word = \"\"\n",
        "\n",
        "print(words)"
      ],
      "metadata": {
        "colab": {
          "base_uri": "https://localhost:8080/"
        },
        "id": "JftUa9x3HPbN",
        "outputId": "965d6b44-ecab-45fc-b6ef-0dc6284fcd01"
      },
      "execution_count": 14,
      "outputs": [
        {
          "output_type": "stream",
          "name": "stdout",
          "text": [
            "['1001001001001111', '1000000010001001', '1010010101001101', '1110011001000010', '0110100010000110', '1110000111011001', '0010011010100011', '0101110110010010', '1100000110010001', '1010101011000100']\n"
          ]
        }
      ]
    },
    {
      "cell_type": "code",
      "source": [
        "## Verificación de palabras \n",
        "\n",
        "for i in words:\n",
        "  print(i,\" -> \",  \"Palabra aceptada\\n\" if check_word(dfa,i) else \"Palabra no aceptada\\n\")"
      ],
      "metadata": {
        "colab": {
          "base_uri": "https://localhost:8080/"
        },
        "id": "K3t7gB3bHTD9",
        "outputId": "d577a128-637d-414a-bac9-1dd59c35a475"
      },
      "execution_count": 15,
      "outputs": [
        {
          "output_type": "stream",
          "name": "stdout",
          "text": [
            "1001001001001111  ->  Palabra no aceptada\n",
            "\n",
            "1000000010001001  ->  Palabra no aceptada\n",
            "\n",
            "1010010101001101  ->  Palabra aceptada\n",
            "\n",
            "1110011001000010  ->  Palabra no aceptada\n",
            "\n",
            "0110100010000110  ->  Palabra no aceptada\n",
            "\n",
            "1110000111011001  ->  Palabra no aceptada\n",
            "\n",
            "0010011010100011  ->  Palabra no aceptada\n",
            "\n",
            "0101110110010010  ->  Palabra no aceptada\n",
            "\n",
            "1100000110010001  ->  Palabra no aceptada\n",
            "\n",
            "1010101011000100  ->  Palabra aceptada\n",
            "\n"
          ]
        }
      ]
    },
    {
      "cell_type": "code",
      "source": [
        "## Espacio para verificar una palabra dada de forma manual\n",
        "\n",
        "manual_word = \"01010001100010\"\n",
        "print(manual_word,\" -> \",  \"Palabra aceptada\" if check_word(dfa,manual_word) else \"Palabra no aceptada\")"
      ],
      "metadata": {
        "colab": {
          "base_uri": "https://localhost:8080/"
        },
        "id": "3eOC3jAKHVWl",
        "outputId": "206333ce-8892-45fa-aa64-3c24130b9f8a"
      },
      "execution_count": 21,
      "outputs": [
        {
          "output_type": "stream",
          "name": "stdout",
          "text": [
            "01010001100010  ->  Palabra aceptada\n"
          ]
        }
      ]
    }
  ]
}