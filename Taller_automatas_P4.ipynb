{
  "nbformat": 4,
  "nbformat_minor": 0,
  "metadata": {
    "colab": {
      "name": "Taller_automatas_P4.ipynb",
      "provenance": [],
      "collapsed_sections": []
    },
    "kernelspec": {
      "name": "python3",
      "display_name": "Python 3"
    },
    "language_info": {
      "name": "python"
    }
  },
  "cells": [
    {
      "cell_type": "markdown",
      "source": [
        "## **Σ = {0, 1}** Lenguaje cuyas cadenas tienen simultáneamente las cadenas 010 y 101."
      ],
      "metadata": {
        "id": "zveDiK2NKMeO"
      }
    },
    {
      "cell_type": "code",
      "execution_count": 41,
      "metadata": {
        "colab": {
          "base_uri": "https://localhost:8080/"
        },
        "id": "eqTQbQq1J_TC",
        "outputId": "b60388ed-2cfa-4be4-b564-d9c2127addde"
      },
      "outputs": [
        {
          "output_type": "stream",
          "name": "stdout",
          "text": [
            "Looking in indexes: https://pypi.org/simple, https://us-python.pkg.dev/colab-wheels/public/simple/\n",
            "Requirement already satisfied: automata-lib in /usr/local/lib/python3.7/dist-packages (5.0.0)\n",
            "Requirement already satisfied: pydot in /usr/local/lib/python3.7/dist-packages (from automata-lib) (1.3.0)\n",
            "Requirement already satisfied: pyparsing>=2.1.4 in /usr/local/lib/python3.7/dist-packages (from pydot->automata-lib) (3.0.9)\n"
          ]
        }
      ],
      "source": [
        "## Instalación de la libreria automata-lib\n",
        "!pip install automata-lib"
      ]
    },
    {
      "cell_type": "code",
      "source": [
        "## Importación de la libreria automata-lib\n",
        "\n",
        "from automata.fa.dfa import DFA\n",
        "## Definición del AFD \n",
        "\n",
        "dfa = DFA(\n",
        "    states={\"q0\", \"q1\", \"q2\", \"q3\", \"q4\", \"q5\", \"q6\", \"q7\",\"q8\"}, \n",
        "    input_symbols={\"0\", \"1\"},\n",
        "    transitions={\n",
        "\t\t\"q8\":{\"1\": \"q8\", \"0\": \"q8\"},\n",
        "\t\t\"q7\":{\"1\": \"q7\", \"0\": \"q7\"},\n",
        "    \"q6\":{\"1\": \"q2\", \"0\": \"q8\"},\n",
        "    \"q5\":{\"1\": \"q7\", \"0\": \"q1\"}, \n",
        "\t\t\"q4\":{\"1\": \"q6\", \"0\": \"q1\"},\n",
        "\t\t\"q3\":{\"1\": \"q2\", \"0\": \"q5\"}, \n",
        "\t\t\"q2\":{\"1\": \"q2\", \"0\": \"q4\"},  \n",
        "\t\t\"q1\":{\"1\": \"q3\", \"0\": \"q1\"},\n",
        "\t\t\"q0\":{\"1\": \"q2\", \"0\": \"q1\"}\n",
        "    },\n",
        "    initial_state=\"q0\",\n",
        "    final_states={\"q8\",\"q7\"},\n",
        ")"
      ],
      "metadata": {
        "id": "-YQKLBu4KSXo"
      },
      "execution_count": 42,
      "outputs": []
    },
    {
      "cell_type": "code",
      "source": [
        "## Función para verificar las palabras \n",
        "\n",
        "def check_word(automaton, expression: str) -> bool:\n",
        "    '''\n",
        "      Esta funcion recibe como parametro el AFD y la palabra a evaluar\n",
        "      automaton: automata.fa.dfa\n",
        "      expression: str\n",
        "    '''\n",
        "\n",
        "    state = automaton.initial_state\n",
        "    for item in expression.upper():\n",
        "        if item not in automaton.input_symbols:\n",
        "            return False\n",
        "        transition = automaton.transitions.get(state)\n",
        "        state = transition.get(item)\n",
        "    return state in automaton.final_states"
      ],
      "metadata": {
        "id": "ve8sjUHoKUmN"
      },
      "execution_count": 43,
      "outputs": []
    },
    {
      "cell_type": "code",
      "source": [
        "## Lista de palabras para verificar en el AFD\n",
        "\n",
        "import random\n",
        "\n",
        "N_WORDS = 50\n",
        "N_LONG_WORD = 12\n",
        "\n",
        "word = \"\"\n",
        "words = []\n",
        "\n",
        "for j in range(0,N_WORDS):\n",
        "  for i in range(0,N_LONG_WORD):\n",
        "    word += str(random.randint(0,1))\n",
        "  words.append(word)\n",
        "  word = \"\"\n",
        "\n",
        "print(words)"
      ],
      "metadata": {
        "colab": {
          "base_uri": "https://localhost:8080/"
        },
        "id": "NsKd2Ia4KX9N",
        "outputId": "e102d5a5-7254-42e7-e4f7-9e054579a42a"
      },
      "execution_count": 44,
      "outputs": [
        {
          "output_type": "stream",
          "name": "stdout",
          "text": [
            "['000110011001', '011011101101', '100010100011', '010111010011', '101011001100', '110101101000', '000000110111', '101000100000', '110110111110', '101101001111', '000101001000', '110000000011', '011111110101', '101101101010', '101101001011', '111001011000', '010001010111', '100010110101', '100011100011', '111110011110', '000010110010', '100111101000', '110001011100', '100100111011', '101110001010', '001110110110', '101100000000', '011000011010', '001011001110', '010110101110', '101001111001', '001101110011', '110000110000', '110000011101', '111011001100', '111101001010', '111010011101', '110101011001', '011000100101', '010010101000', '101010110001', '001001010010', '110100010101', '101111010111', '110011011000', '101100001101', '101101010110', '111011001010', '001110010100', '110010111011']\n"
          ]
        }
      ]
    },
    {
      "cell_type": "code",
      "source": [
        "## Verificación de palabras \n",
        "\n",
        "for i in words:\n",
        "  print(i,\" -> \",  \"Palabra aceptada\\n\" if check_word(dfa,i) else \"Palabra no aceptada\\n\")"
      ],
      "metadata": {
        "colab": {
          "base_uri": "https://localhost:8080/"
        },
        "id": "laM_wT3YKZvs",
        "outputId": "7a72c02f-2697-44fd-ce15-51bb8715f09c"
      },
      "execution_count": 45,
      "outputs": [
        {
          "output_type": "stream",
          "name": "stdout",
          "text": [
            "000110011001  ->  Palabra no aceptada\n",
            "\n",
            "011011101101  ->  Palabra no aceptada\n",
            "\n",
            "100010100011  ->  Palabra aceptada\n",
            "\n",
            "010111010011  ->  Palabra aceptada\n",
            "\n",
            "101011001100  ->  Palabra aceptada\n",
            "\n",
            "110101101000  ->  Palabra aceptada\n",
            "\n",
            "000000110111  ->  Palabra no aceptada\n",
            "\n",
            "101000100000  ->  Palabra aceptada\n",
            "\n",
            "110110111110  ->  Palabra no aceptada\n",
            "\n",
            "101101001111  ->  Palabra aceptada\n",
            "\n",
            "000101001000  ->  Palabra aceptada\n",
            "\n",
            "110000000011  ->  Palabra no aceptada\n",
            "\n",
            "011111110101  ->  Palabra aceptada\n",
            "\n",
            "101101101010  ->  Palabra aceptada\n",
            "\n",
            "101101001011  ->  Palabra aceptada\n",
            "\n",
            "111001011000  ->  Palabra aceptada\n",
            "\n",
            "010001010111  ->  Palabra aceptada\n",
            "\n",
            "100010110101  ->  Palabra aceptada\n",
            "\n",
            "100011100011  ->  Palabra no aceptada\n",
            "\n",
            "111110011110  ->  Palabra no aceptada\n",
            "\n",
            "000010110010  ->  Palabra aceptada\n",
            "\n",
            "100111101000  ->  Palabra aceptada\n",
            "\n",
            "110001011100  ->  Palabra aceptada\n",
            "\n",
            "100100111011  ->  Palabra no aceptada\n",
            "\n",
            "101110001010  ->  Palabra aceptada\n",
            "\n",
            "001110110110  ->  Palabra no aceptada\n",
            "\n",
            "101100000000  ->  Palabra no aceptada\n",
            "\n",
            "011000011010  ->  Palabra aceptada\n",
            "\n",
            "001011001110  ->  Palabra aceptada\n",
            "\n",
            "010110101110  ->  Palabra aceptada\n",
            "\n",
            "101001111001  ->  Palabra aceptada\n",
            "\n",
            "001101110011  ->  Palabra no aceptada\n",
            "\n",
            "110000110000  ->  Palabra no aceptada\n",
            "\n",
            "110000011101  ->  Palabra no aceptada\n",
            "\n",
            "111011001100  ->  Palabra no aceptada\n",
            "\n",
            "111101001010  ->  Palabra aceptada\n",
            "\n",
            "111010011101  ->  Palabra aceptada\n",
            "\n",
            "110101011001  ->  Palabra aceptada\n",
            "\n",
            "011000100101  ->  Palabra aceptada\n",
            "\n",
            "010010101000  ->  Palabra aceptada\n",
            "\n",
            "101010110001  ->  Palabra aceptada\n",
            "\n",
            "001001010010  ->  Palabra aceptada\n",
            "\n",
            "110100010101  ->  Palabra aceptada\n",
            "\n",
            "101111010111  ->  Palabra aceptada\n",
            "\n",
            "110011011000  ->  Palabra no aceptada\n",
            "\n",
            "101100001101  ->  Palabra no aceptada\n",
            "\n",
            "101101010110  ->  Palabra aceptada\n",
            "\n",
            "111011001010  ->  Palabra aceptada\n",
            "\n",
            "001110010100  ->  Palabra aceptada\n",
            "\n",
            "110010111011  ->  Palabra aceptada\n",
            "\n"
          ]
        }
      ]
    },
    {
      "cell_type": "code",
      "source": [
        "## Espacio para verificar una palabra dada de forma manual\n",
        "\n",
        "manual_word = \"01010001100010\"\n",
        "print(manual_word,\" -> \",  \"Palabra aceptada\" if check_word(dfa,manual_word) else \"Palabra no aceptada\")"
      ],
      "metadata": {
        "colab": {
          "base_uri": "https://localhost:8080/"
        },
        "id": "UceuaDEyKaWM",
        "outputId": "a2a8442b-1194-4a63-a10e-d5f202c98195"
      },
      "execution_count": 46,
      "outputs": [
        {
          "output_type": "stream",
          "name": "stdout",
          "text": [
            "01010001100010  ->  Palabra aceptada\n"
          ]
        }
      ]
    }
  ]
}