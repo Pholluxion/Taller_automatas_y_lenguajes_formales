{
  "nbformat": 4,
  "nbformat_minor": 0,
  "metadata": {
    "colab": {
      "name": "Taller_automatas_P1.ipynb",
      "provenance": [],
      "collapsed_sections": []
    },
    "kernelspec": {
      "name": "python3",
      "display_name": "Python 3"
    },
    "language_info": {
      "name": "python"
    }
  },
  "cells": [
    {
      "cell_type": "markdown",
      "source": [
        "### Lenguaje sobre **Σ = {0, 1}** en el que toda subcadena de dos símbolos de la palabra tiene a lo más dos ceros."
      ],
      "metadata": {
        "id": "zYhzYHImtEPV"
      }
    },
    {
      "cell_type": "code",
      "execution_count": null,
      "metadata": {
        "colab": {
          "base_uri": "https://localhost:8080/"
        },
        "id": "m6581WEzKHVf",
        "outputId": "7e31257e-55fb-4ca4-a8f2-73fa9c27e0f1"
      },
      "outputs": [
        {
          "output_type": "stream",
          "name": "stdout",
          "text": [
            "Looking in indexes: https://pypi.org/simple, https://us-python.pkg.dev/colab-wheels/public/simple/\n",
            "Collecting automata-lib\n",
            "  Downloading automata_lib-5.0.0-py3-none-any.whl (32 kB)\n",
            "Requirement already satisfied: pydot in /usr/local/lib/python3.7/dist-packages (from automata-lib) (1.3.0)\n",
            "Requirement already satisfied: pyparsing>=2.1.4 in /usr/local/lib/python3.7/dist-packages (from pydot->automata-lib) (3.0.9)\n",
            "Installing collected packages: automata-lib\n",
            "Successfully installed automata-lib-5.0.0\n"
          ]
        }
      ],
      "source": [
        "## Instalación de la libreria automata-lib\n",
        "!pip install automata-lib"
      ]
    },
    {
      "cell_type": "code",
      "source": [
        "## Importación de la libreria automata-lib\n",
        "\n",
        "from automata.fa.dfa import DFA\n",
        "\n",
        "## Definición del AFD \n",
        "\n",
        "dfa = DFA(\n",
        "    states={\"q0\", \"q1\", \"q2\", \"q3\",\"q4\",\"q5\"}, \n",
        "    input_symbols={\"0\", \"1\"},\n",
        "    transitions={\n",
        "    \"q5\":{\"1\": \"q5\", \"0\": \"q5\"}, \n",
        "\t\t\"q4\":{\"1\": \"q5\", \"0\": \"q3\"},\n",
        "\t\t\"q3\":{\"1\": \"q2\", \"0\": \"q3\"}, \n",
        "\t\t\"q2\":{\"1\": \"q5\", \"0\": \"q3\"}, \n",
        "\t\t\"q1\":{\"1\": \"q2\", \"0\": \"q3\"}, \n",
        "\t\t\"q0\":{\"1\": \"q4\", \"0\": \"q1\"}\n",
        "    },\n",
        "    initial_state=\"q0\",\n",
        "    final_states={\"q2\",\"q3\"},\n",
        ")"
      ],
      "metadata": {
        "id": "SeVmeu2kKZvM"
      },
      "execution_count": null,
      "outputs": []
    },
    {
      "cell_type": "code",
      "source": [
        "## Función para verificar las palabras \n",
        "\n",
        "def check_word(automaton, expression: str) -> bool:\n",
        "    '''\n",
        "      Esta funcion recibe como parametro el AFD y la palabra a evaluar\n",
        "      automaton: automata.fa.dfa\n",
        "      expression: str\n",
        "    '''\n",
        "\n",
        "    state = automaton.initial_state\n",
        "    for item in expression.upper():\n",
        "        if item not in automaton.input_symbols:\n",
        "            return False\n",
        "        transition = automaton.transitions.get(state)\n",
        "        state = transition.get(item)\n",
        "    return state in automaton.final_states"
      ],
      "metadata": {
        "id": "_oNeUoHfNzZh"
      },
      "execution_count": null,
      "outputs": []
    },
    {
      "cell_type": "code",
      "source": [
        "## Lista de palabras para verificar en el AFD\n",
        "\n",
        "import random\n",
        "\n",
        "N_WORDS = 10\n",
        "N_LONG_WORD = 10\n",
        "\n",
        "word = \"\"\n",
        "words = []\n",
        "\n",
        "for j in range(0,N_WORDS):\n",
        "  for i in range(0,N_LONG_WORD):\n",
        "    word += str(random.randint(0,1))\n",
        "  words.append(word)\n",
        "  word = \"\"\n",
        "\n",
        "print(words)"
      ],
      "metadata": {
        "colab": {
          "base_uri": "https://localhost:8080/"
        },
        "id": "Y1AMSChoFrMu",
        "outputId": "9cc11e6d-e169-496d-d2c4-dd0bc6daf736"
      },
      "execution_count": null,
      "outputs": [
        {
          "output_type": "stream",
          "name": "stdout",
          "text": [
            "['1001111000', '0101010011', '1100111101', '0010100101', '1011100101', '1100110110', '0000100010', '1110111000', '0111000001', '1110110111']\n"
          ]
        }
      ]
    },
    {
      "cell_type": "code",
      "source": [
        "## Verificación de palabras \n",
        "\n",
        "for i in words:\n",
        "  print(i,\" -> \",  \"Palabra aceptada\\n\" if check_word(dfa,i) else \"Palabra no aceptada\\n\")"
      ],
      "metadata": {
        "colab": {
          "base_uri": "https://localhost:8080/"
        },
        "id": "tyrq2RRNFtDo",
        "outputId": "94ee6092-6e0c-4ae8-8be5-0379ddb7951b"
      },
      "execution_count": null,
      "outputs": [
        {
          "output_type": "stream",
          "name": "stdout",
          "text": [
            "1001111000  ->  Palabra no aceptada\n",
            "\n",
            "0101010011  ->  Palabra no aceptada\n",
            "\n",
            "1100111101  ->  Palabra no aceptada\n",
            "\n",
            "0010100101  ->  Palabra aceptada\n",
            "\n",
            "1011100101  ->  Palabra no aceptada\n",
            "\n",
            "1100110110  ->  Palabra no aceptada\n",
            "\n",
            "0000100010  ->  Palabra aceptada\n",
            "\n",
            "1110111000  ->  Palabra no aceptada\n",
            "\n",
            "0111000001  ->  Palabra no aceptada\n",
            "\n",
            "1110110111  ->  Palabra no aceptada\n",
            "\n"
          ]
        }
      ]
    },
    {
      "cell_type": "code",
      "source": [
        "## Espacio para verificar una palabra dada de forma manual\n",
        "\n",
        "manual_word = \"010101\"\n",
        "print(manual_word,\" -> \",  \"Palabra aceptada\" if check_word(dfa,manual_word) else \"Palabra no aceptada\")"
      ],
      "metadata": {
        "colab": {
          "base_uri": "https://localhost:8080/"
        },
        "id": "3KoF3fG0Hxqn",
        "outputId": "5bf312ff-8c6b-4207-c574-6e9d98bd5162"
      },
      "execution_count": null,
      "outputs": [
        {
          "output_type": "stream",
          "name": "stdout",
          "text": [
            "010101  ->  Palabra aceptada\n"
          ]
        }
      ]
    }
  ]
}