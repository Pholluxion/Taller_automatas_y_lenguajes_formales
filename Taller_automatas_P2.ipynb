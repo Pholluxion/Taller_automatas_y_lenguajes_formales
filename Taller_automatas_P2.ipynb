{
  "nbformat": 4,
  "nbformat_minor": 0,
  "metadata": {
    "colab": {
      "name": "Taller_automatas_P2.ipynb",
      "provenance": [],
      "collapsed_sections": []
    },
    "kernelspec": {
      "name": "python3",
      "display_name": "Python 3"
    },
    "language_info": {
      "name": "python"
    }
  },
  "cells": [
    {
      "cell_type": "markdown",
      "source": [
        "## **Σ = {0, 1}** Lenguaje de todas las cadenas que contienen la subcadena 000 pero no la subcadena 0000\n"
      ],
      "metadata": {
        "id": "T19OOAKYNKp3"
      }
    },
    {
      "cell_type": "code",
      "execution_count": 1,
      "metadata": {
        "colab": {
          "base_uri": "https://localhost:8080/"
        },
        "id": "UvGWn5WANF5n",
        "outputId": "52072722-4d79-4a11-ee30-81c352028bef"
      },
      "outputs": [
        {
          "output_type": "stream",
          "name": "stdout",
          "text": [
            "Looking in indexes: https://pypi.org/simple, https://us-python.pkg.dev/colab-wheels/public/simple/\n",
            "Collecting automata-lib\n",
            "  Downloading automata_lib-5.0.0-py3-none-any.whl (32 kB)\n",
            "Requirement already satisfied: pydot in /usr/local/lib/python3.7/dist-packages (from automata-lib) (1.3.0)\n",
            "Requirement already satisfied: pyparsing>=2.1.4 in /usr/local/lib/python3.7/dist-packages (from pydot->automata-lib) (3.0.9)\n",
            "Installing collected packages: automata-lib\n",
            "Successfully installed automata-lib-5.0.0\n"
          ]
        }
      ],
      "source": [
        "## Instalación de la libreria automata-lib\n",
        "!pip install automata-lib"
      ]
    },
    {
      "cell_type": "code",
      "source": [
        "## Importación de la libreria automata-lib\n",
        "\n",
        "from automata.fa.dfa import DFA\n",
        "\n",
        "## Definición del AFD \n",
        "\n",
        "dfa = DFA(\n",
        "    states={\"q0\", \"q1\", \"q2\", \"q3\", \"q4\", \"q5\", \"q6\",\"q7\",\"q8\"}, \n",
        "    input_symbols={\"0\", \"1\"},\n",
        "    transitions={\n",
        "    \"q8\":{\"1\": \"q8\", \"0\": \"q3\"},\n",
        "    \"q7\":{\"1\": \"q4\", \"0\": \"q8\"}, \n",
        "    \"q6\":{\"1\": \"q6\", \"0\": \"q1\"},\n",
        "    \"q5\":{\"1\": \"q5\", \"0\": \"q5\"}, \n",
        "\t\t\"q4\":{\"1\": \"q4\", \"0\": \"q7\"},\n",
        "\t\t\"q3\":{\"1\": \"q4\", \"0\": \"q5\"}, \n",
        "\t\t\"q2\":{\"1\": \"q6\", \"0\": \"q3\"},  \n",
        "\t\t\"q1\":{\"1\": \"q6\", \"0\": \"q2\"},\n",
        "\t\t\"q0\":{\"1\": \"q6\", \"0\": \"q1\"}\n",
        "    },\n",
        "    initial_state=\"q0\",\n",
        "    final_states={\"q4\",\"q3\",\"q7\",\"q8\"},\n",
        ")"
      ],
      "metadata": {
        "id": "8jmmzc99NME3"
      },
      "execution_count": 15,
      "outputs": []
    },
    {
      "cell_type": "code",
      "source": [
        "## Función para verificar las palabras \n",
        "\n",
        "def check_word(automaton, expression: str) -> bool:\n",
        "    '''\n",
        "      Esta funcion recibe como parametro el AFD y la palabra a evaluar\n",
        "      automaton: automata.fa.dfa\n",
        "      expression: str\n",
        "    '''\n",
        "\n",
        "    state = automaton.initial_state\n",
        "    for item in expression.upper():\n",
        "        if item not in automaton.input_symbols:\n",
        "            return False\n",
        "        transition = automaton.transitions.get(state)\n",
        "        state = transition.get(item)\n",
        "    return state in automaton.final_states"
      ],
      "metadata": {
        "id": "eDGXCW-WNQjH"
      },
      "execution_count": 16,
      "outputs": []
    },
    {
      "cell_type": "code",
      "source": [
        "## Lista de palabras para verificar en el AFD\n",
        "\n",
        "import random\n",
        "\n",
        "N_WORDS = 10\n",
        "N_LONG_WORD = 16\n",
        "\n",
        "word = \"\"\n",
        "words = []\n",
        "\n",
        "for j in range(0,N_WORDS):\n",
        "  for i in range(0,N_LONG_WORD):\n",
        "    word += str(random.randint(0,1))\n",
        "  words.append(word)\n",
        "  word = \"\"\n",
        "\n",
        "print(words)"
      ],
      "metadata": {
        "colab": {
          "base_uri": "https://localhost:8080/"
        },
        "id": "MDkyTeR4NSlv",
        "outputId": "ac2db1b4-38c0-4bc9-dd49-02ac5fedcb45"
      },
      "execution_count": 17,
      "outputs": [
        {
          "output_type": "stream",
          "name": "stdout",
          "text": [
            "['1101100011000100', '1001111111010010', '0101011110101111', '1010010111011001', '1110111100101011', '0011110001110001', '0001011101000010', '1010111000000110', '0110000111011011', '0010011011000101']\n"
          ]
        }
      ]
    },
    {
      "cell_type": "code",
      "source": [
        "## Verificación de palabras \n",
        "\n",
        "for i in words:\n",
        "  print(i,\" -> \",  \"Palabra aceptada\\n\" if check_word(dfa,i) else \"Palabra no aceptada\\n\")"
      ],
      "metadata": {
        "colab": {
          "base_uri": "https://localhost:8080/"
        },
        "id": "8NkNEFpGNV_X",
        "outputId": "c960f30d-0879-4908-a46b-935f6f518229"
      },
      "execution_count": 18,
      "outputs": [
        {
          "output_type": "stream",
          "name": "stdout",
          "text": [
            "1101100011000100  ->  Palabra aceptada\n",
            "\n",
            "1001111111010010  ->  Palabra no aceptada\n",
            "\n",
            "0101011110101111  ->  Palabra no aceptada\n",
            "\n",
            "1010010111011001  ->  Palabra no aceptada\n",
            "\n",
            "1110111100101011  ->  Palabra no aceptada\n",
            "\n",
            "0011110001110001  ->  Palabra aceptada\n",
            "\n",
            "0001011101000010  ->  Palabra no aceptada\n",
            "\n",
            "1010111000000110  ->  Palabra no aceptada\n",
            "\n",
            "0110000111011011  ->  Palabra no aceptada\n",
            "\n",
            "0010011011000101  ->  Palabra aceptada\n",
            "\n"
          ]
        }
      ]
    },
    {
      "cell_type": "code",
      "source": [
        "## Espacio para verificar una palabra dada de forma manual\n",
        "\n",
        "manual_word = \"01010001111110001\"\n",
        "print(manual_word,\" -> \",  \"Palabra aceptada\" if check_word(dfa,manual_word) else \"Palabra no aceptada\")"
      ],
      "metadata": {
        "colab": {
          "base_uri": "https://localhost:8080/"
        },
        "id": "YXIh_yDQNWle",
        "outputId": "38ee19a3-df40-437c-cb32-4ba2802f643f"
      },
      "execution_count": 23,
      "outputs": [
        {
          "output_type": "stream",
          "name": "stdout",
          "text": [
            "01010001111110001  ->  Palabra aceptada\n"
          ]
        }
      ]
    }
  ]
}